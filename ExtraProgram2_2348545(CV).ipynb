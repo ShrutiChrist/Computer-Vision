{
  "nbformat": 4,
  "nbformat_minor": 0,
  "metadata": {
    "colab": {
      "provenance": [],
      "authorship_tag": "ABX9TyMOV3gqtbTNuH9C0jScIHRq",
      "include_colab_link": true
    },
    "kernelspec": {
      "name": "python3",
      "display_name": "Python 3"
    },
    "language_info": {
      "name": "python"
    }
  },
  "cells": [
    {
      "cell_type": "markdown",
      "metadata": {
        "id": "view-in-github",
        "colab_type": "text"
      },
      "source": [
        "<a href=\"https://colab.research.google.com/github/ShrutiChrist/Computer-Vision/blob/main/ExtraProgram2_2348545(CV).ipynb\" target=\"_parent\"><img src=\"https://colab.research.google.com/assets/colab-badge.svg\" alt=\"Open In Colab\"/></a>"
      ]
    },
    {
      "cell_type": "markdown",
      "source": [
        "Sampling: Sampling is the process of converting a continuous signal into a discrete signal. This involves selecting specific points (samples) from the continuous signal at regular intervals. The rate at which samples are taken is known as the sampling rate.\n",
        "\n",
        "Quantization: Quantization is the process of converting the amplitude of each sample into a finite set of values. In other words, it involves approximating the continuous amplitude values with a limited number of discrete levels."
      ],
      "metadata": {
        "id": "COJaa0n4yW-y"
      }
    },
    {
      "cell_type": "markdown",
      "source": [],
      "metadata": {
        "id": "fXjNvF7ZyV1I"
      }
    },
    {
      "cell_type": "code",
      "execution_count": 1,
      "metadata": {
        "colab": {
          "base_uri": "https://localhost:8080/"
        },
        "id": "PYOlbD5fyC2a",
        "outputId": "18695edc-7085-455c-8040-cb5bdbac76f0"
      },
      "outputs": [
        {
          "output_type": "stream",
          "name": "stdout",
          "text": [
            "Original Signal:\n",
            " [[1 2 3]\n",
            " [4 5 6]\n",
            " [7 8 9]]\n",
            "\n",
            "Discrete Signal (After Sampling):\n",
            " [[1 3]\n",
            " [7 9]]\n",
            "\n",
            "Quantized Signal:\n",
            " [[0. 4.]\n",
            " [8. 8.]]\n",
            "\n",
            "Bilinear Interpolated Signal:\n",
            " [[0.         1.33333333 2.66666667 4.        ]\n",
            " [2.66666667 3.55555556 4.44444444 5.33333333]\n",
            " [5.33333333 5.77777778 6.22222222 6.66666667]\n",
            " [8.         8.         8.         8.        ]]\n",
            "\n",
            "Bicubic Interpolated Signal:\n",
            " [[-1.58206781e-15  1.03703704e+00  2.96296296e+00  4.00000000e+00]\n",
            " [ 2.07407407e+00  2.84224966e+00  4.26886145e+00  5.03703704e+00]\n",
            " [ 5.92592593e+00  6.19478738e+00  6.69410151e+00  6.96296296e+00]\n",
            " [ 8.00000000e+00  8.00000000e+00  8.00000000e+00  8.00000000e+00]]\n",
            "\n",
            "Nearest Neighbor Interpolated Signal:\n",
            " [[0. 0. 4. 4.]\n",
            " [0. 0. 4. 4.]\n",
            " [8. 8. 8. 8.]\n",
            " [8. 8. 8. 8.]]\n"
          ]
        }
      ],
      "source": [
        "import numpy as np\n",
        "from scipy import ndimage\n",
        "\n",
        "# Create a sample continuous signal (e.g., a 2D image)\n",
        "continuous_signal = np.array([[1, 2, 3],\n",
        "                              [4, 5, 6],\n",
        "                              [7, 8, 9]])\n",
        "\n",
        "# Define the sampling rate\n",
        "sampling_rate = 2\n",
        "\n",
        "# Perform sampling to obtain a discrete signal\n",
        "discrete_signal = continuous_signal[::sampling_rate, ::sampling_rate]\n",
        "\n",
        "# Apply quantization by reducing the number of amplitude levels\n",
        "quantized_signal = np.round(discrete_signal / 2) * 2  # For example, quantizing to even numbers\n",
        "\n",
        "# Apply interpolation techniques\n",
        "bilinear_interpolated_signal = ndimage.zoom(quantized_signal, 2, order=1)  # Bilinear interpolation\n",
        "bicubic_interpolated_signal = ndimage.zoom(quantized_signal, 2, order=3)  # Bicubic interpolation\n",
        "nearest_neighbor_interpolated_signal = ndimage.zoom(quantized_signal, 2, order=0)  # Nearest neighbor interpolation\n",
        "\n",
        "# Print the results\n",
        "print(\"Original Signal:\\n\", continuous_signal)\n",
        "print(\"\\nDiscrete Signal (After Sampling):\\n\", discrete_signal)\n",
        "print(\"\\nQuantized Signal:\\n\", quantized_signal)\n",
        "print(\"\\nBilinear Interpolated Signal:\\n\", bilinear_interpolated_signal)\n",
        "print(\"\\nBicubic Interpolated Signal:\\n\", bicubic_interpolated_signal)\n",
        "print(\"\\nNearest Neighbor Interpolated Signal:\\n\", nearest_neighbor_interpolated_signal)\n"
      ]
    }
  ]
}